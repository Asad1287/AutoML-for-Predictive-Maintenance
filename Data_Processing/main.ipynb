{
 "cells": [
  {
   "cell_type": "code",
   "execution_count": 1,
   "metadata": {},
   "outputs": [],
   "source": [
    "import numpy as np\n",
    "import pandas as pd\n",
    "from scipy.stats import zscore\n",
    "from sklearn.cluster import DBSCAN\n",
    "\n"
   ]
  },
  {
   "cell_type": "code",
   "execution_count": 2,
   "metadata": {},
   "outputs": [],
   "source": [
    "def z_score(data, threshold=3.0, remove=False):\n",
    "        z_scores = np.abs(zscore(data))\n",
    "        outliers = np.where(z_scores > threshold)\n",
    "        if remove:\n",
    "            return np.delete(data, outliers)\n",
    "        else:\n",
    "            return data[outliers]"
   ]
  },
  {
   "cell_type": "code",
   "execution_count": 10,
   "metadata": {},
   "outputs": [
    {
     "data": {
      "text/plain": [
       "array([-0.68678193,  1.56496209, -0.68678193,  0.43909008, -0.68678193,\n",
       "        2.1278981 , -0.68678193, -0.68678193, -0.68678193, -0.01125872])"
      ]
     },
     "execution_count": 10,
     "metadata": {},
     "output_type": "execute_result"
    }
   ],
   "source": [
    "data = np.array([1,5,1,3,1,6,1,1,1,2.2])\n",
    "zscore(data)\n"
   ]
  },
  {
   "cell_type": "code",
   "execution_count": 11,
   "metadata": {},
   "outputs": [
    {
     "name": "stdout",
     "output_type": "stream",
     "text": [
      "\u001b[1;31mSignature:\u001b[0m \u001b[0mzscore\u001b[0m\u001b[1;33m(\u001b[0m\u001b[0ma\u001b[0m\u001b[1;33m,\u001b[0m \u001b[0maxis\u001b[0m\u001b[1;33m=\u001b[0m\u001b[1;36m0\u001b[0m\u001b[1;33m,\u001b[0m \u001b[0mddof\u001b[0m\u001b[1;33m=\u001b[0m\u001b[1;36m0\u001b[0m\u001b[1;33m,\u001b[0m \u001b[0mnan_policy\u001b[0m\u001b[1;33m=\u001b[0m\u001b[1;34m'propagate'\u001b[0m\u001b[1;33m)\u001b[0m\u001b[1;33m\u001b[0m\u001b[1;33m\u001b[0m\u001b[0m\n",
      "\u001b[1;31mSource:\u001b[0m   \n",
      "\u001b[1;32mdef\u001b[0m \u001b[0mzscore\u001b[0m\u001b[1;33m(\u001b[0m\u001b[0ma\u001b[0m\u001b[1;33m,\u001b[0m \u001b[0maxis\u001b[0m\u001b[1;33m=\u001b[0m\u001b[1;36m0\u001b[0m\u001b[1;33m,\u001b[0m \u001b[0mddof\u001b[0m\u001b[1;33m=\u001b[0m\u001b[1;36m0\u001b[0m\u001b[1;33m,\u001b[0m \u001b[0mnan_policy\u001b[0m\u001b[1;33m=\u001b[0m\u001b[1;34m'propagate'\u001b[0m\u001b[1;33m)\u001b[0m\u001b[1;33m:\u001b[0m\u001b[1;33m\n",
      "\u001b[0m    \u001b[1;34m\"\"\"\n",
      "    Compute the z score.\n",
      "\n",
      "    Compute the z score of each value in the sample, relative to the\n",
      "    sample mean and standard deviation.\n",
      "\n",
      "    Parameters\n",
      "    ----------\n",
      "    a : array_like\n",
      "        An array like object containing the sample data.\n",
      "    axis : int or None, optional\n",
      "        Axis along which to operate. Default is 0. If None, compute over\n",
      "        the whole array `a`.\n",
      "    ddof : int, optional\n",
      "        Degrees of freedom correction in the calculation of the\n",
      "        standard deviation. Default is 0.\n",
      "    nan_policy : {'propagate', 'raise', 'omit'}, optional\n",
      "        Defines how to handle when input contains nan. 'propagate' returns nan,\n",
      "        'raise' throws an error, 'omit' performs the calculations ignoring nan\n",
      "        values. Default is 'propagate'.  Note that when the value is 'omit',\n",
      "        nans in the input also propagate to the output, but they do not affect\n",
      "        the z-scores computed for the non-nan values.\n",
      "\n",
      "    Returns\n",
      "    -------\n",
      "    zscore : array_like\n",
      "        The z-scores, standardized by mean and standard deviation of\n",
      "        input array `a`.\n",
      "\n",
      "    Notes\n",
      "    -----\n",
      "    This function preserves ndarray subclasses, and works also with\n",
      "    matrices and masked arrays (it uses `asanyarray` instead of\n",
      "    `asarray` for parameters).\n",
      "\n",
      "    Examples\n",
      "    --------\n",
      "    >>> a = np.array([ 0.7972,  0.0767,  0.4383,  0.7866,  0.8091,\n",
      "    ...                0.1954,  0.6307,  0.6599,  0.1065,  0.0508])\n",
      "    >>> from scipy import stats\n",
      "    >>> stats.zscore(a)\n",
      "    array([ 1.1273, -1.247 , -0.0552,  1.0923,  1.1664, -0.8559,  0.5786,\n",
      "            0.6748, -1.1488, -1.3324])\n",
      "\n",
      "    Computing along a specified axis, using n-1 degrees of freedom\n",
      "    (``ddof=1``) to calculate the standard deviation:\n",
      "\n",
      "    >>> b = np.array([[ 0.3148,  0.0478,  0.6243,  0.4608],\n",
      "    ...               [ 0.7149,  0.0775,  0.6072,  0.9656],\n",
      "    ...               [ 0.6341,  0.1403,  0.9759,  0.4064],\n",
      "    ...               [ 0.5918,  0.6948,  0.904 ,  0.3721],\n",
      "    ...               [ 0.0921,  0.2481,  0.1188,  0.1366]])\n",
      "    >>> stats.zscore(b, axis=1, ddof=1)\n",
      "    array([[-0.19264823, -1.28415119,  1.07259584,  0.40420358],\n",
      "           [ 0.33048416, -1.37380874,  0.04251374,  1.00081084],\n",
      "           [ 0.26796377, -1.12598418,  1.23283094, -0.37481053],\n",
      "           [-0.22095197,  0.24468594,  1.19042819, -1.21416216],\n",
      "           [-0.82780366,  1.4457416 , -0.43867764, -0.1792603 ]])\n",
      "\n",
      "    An example with `nan_policy='omit'`:\n",
      "\n",
      "    >>> x = np.array([[25.11, 30.10, np.nan, 32.02, 43.15],\n",
      "    ...               [14.95, 16.06, 121.25, 94.35, 29.81]])\n",
      "    >>> stats.zscore(x, axis=1, nan_policy='omit')\n",
      "    array([[-1.13490897, -0.37830299,         nan, -0.08718406,  1.60039602],\n",
      "           [-0.91611681, -0.89090508,  1.4983032 ,  0.88731639, -0.5785977 ]])\n",
      "    \"\"\"\u001b[0m\u001b[1;33m\n",
      "\u001b[0m    \u001b[1;32mreturn\u001b[0m \u001b[0mzmap\u001b[0m\u001b[1;33m(\u001b[0m\u001b[0ma\u001b[0m\u001b[1;33m,\u001b[0m \u001b[0ma\u001b[0m\u001b[1;33m,\u001b[0m \u001b[0maxis\u001b[0m\u001b[1;33m=\u001b[0m\u001b[0maxis\u001b[0m\u001b[1;33m,\u001b[0m \u001b[0mddof\u001b[0m\u001b[1;33m=\u001b[0m\u001b[0mddof\u001b[0m\u001b[1;33m,\u001b[0m \u001b[0mnan_policy\u001b[0m\u001b[1;33m=\u001b[0m\u001b[0mnan_policy\u001b[0m\u001b[1;33m)\u001b[0m\u001b[1;33m\u001b[0m\u001b[1;33m\u001b[0m\u001b[0m\n",
      "\u001b[1;31mFile:\u001b[0m      d:\\conda1\\lib\\site-packages\\scipy\\stats\\stats.py\n",
      "\u001b[1;31mType:\u001b[0m      function\n"
     ]
    }
   ],
   "source": [
    "zscore??"
   ]
  }
 ],
 "metadata": {
  "kernelspec": {
   "display_name": "base",
   "language": "python",
   "name": "python3"
  },
  "language_info": {
   "codemirror_mode": {
    "name": "ipython",
    "version": 3
   },
   "file_extension": ".py",
   "mimetype": "text/x-python",
   "name": "python",
   "nbconvert_exporter": "python",
   "pygments_lexer": "ipython3",
   "version": "3.7.6"
  },
  "orig_nbformat": 4
 },
 "nbformat": 4,
 "nbformat_minor": 2
}
